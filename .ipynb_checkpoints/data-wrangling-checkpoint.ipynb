{
 "cells": [
  {
   "cell_type": "markdown",
   "metadata": {},
   "source": [
    "# Data Wrangling\n",
    "This data contains personality scores for recruits, plus the department they applied for at Umuzi.\n",
    "Below I'll manipulate it with various functions to make it easy to view.\n",
    "\n",
    "I begin by importing the relevant modules that we'll use."
   ]
  },
  {
   "cell_type": "code",
   "execution_count": 1,
   "metadata": {},
   "outputs": [],
   "source": [
    "import pandas as pd\n",
    "import re\n",
    "import numpy as np"
   ]
  },
  {
   "cell_type": "markdown",
   "metadata": {},
   "source": [
    "Read the csv files."
   ]
  },
  {
   "cell_type": "code",
   "execution_count": 19,
   "metadata": {},
   "outputs": [],
   "source": [
    "#df_dep= pd.read_csv('data/departments.csv', sep=';', index_col=0)\n",
    "df_dep= pd.read_csv('data/departments.csv', sep=';')\n",
    "df_person= pd.read_csv('data/personality_scores.csv', sep=';')"
   ]
  },
  {
   "cell_type": "markdown",
   "metadata": {},
   "source": [
    "drop any duplicate IDs."
   ]
  },
  {
   "cell_type": "code",
   "execution_count": 20,
   "metadata": {
    "scrolled": false
   },
   "outputs": [],
   "source": [
    "df_person=df_person.drop_duplicates(subset='ID')\n"
   ]
  },
  {
   "cell_type": "markdown",
   "metadata": {},
   "source": [
    "Make sure that te leng of both dataframes is equal. It will give an assertion error if not."
   ]
  },
  {
   "cell_type": "code",
   "execution_count": 21,
   "metadata": {},
   "outputs": [],
   "source": [
    "assert len(df_person)== len(df_dep)"
   ]
  },
  {
   "cell_type": "markdown",
   "metadata": {},
   "source": [
    "create a function called scores which will be responsible for summing up the values in the given columns."
   ]
  },
  {
   "cell_type": "code",
   "execution_count": 22,
   "metadata": {},
   "outputs": [],
   "source": [
    "\n",
    "def scores(row, trait):\n",
    "    \"\"\"\n",
    "    Takes in a row of a dataframe as well as a trait in the form of a digit.\n",
    "    \"\"\"\n",
    "    total=0\n",
    "    reg= re.compile('\\d+')\n",
    "    for col in row:\n",
    "        numbers= reg.findall(col)\n",
    "        if str(trait)==numbers[0]:\n",
    "            total+= int(numbers[1])\n",
    "            \n",
    "    return total\n",
    "\n",
    "#dictionary to link each number to a respective personal trait.\n",
    "traits= dict({\n",
    "    1 : 'Extraversion', \n",
    "    2 : 'Agreeableness',\n",
    "    3 : 'Conscientiousness', \n",
    "    4 : 'Emotional Stability',\n",
    "    5 : 'Intellect'})\n",
    "\n",
    "#loop over each trait and add a column. calls the function 'scores' to be applied for each of those columns.\n",
    "for each in traits.keys():\n",
    "    df_person[f'{traits[each]}']= df_person.loc[:,'Section 5 of 6 [I am always prepared.]':'Section 5 of 6 [I worry about things.]'].apply(scores, args=(each,) , axis=1)"
   ]
  },
  {
   "cell_type": "markdown",
   "metadata": {},
   "source": [
    "Names of departments are case sensitive, thus Web dev and web dev appear as two different categories. To solve this I made all the names lower case."
   ]
  },
  {
   "cell_type": "code",
   "execution_count": 44,
   "metadata": {},
   "outputs": [
    {
     "data": {
      "text/plain": [
       "array(['Data', 'Web Dev', 'Copywriting', 'Design', 'Strategy', 'Web dev'],\n",
       "      dtype=object)"
      ]
     },
     "execution_count": 44,
     "metadata": {},
     "output_type": "execute_result"
    }
   ],
   "source": [
    "df_dep.Department.unique()"
   ]
  },
  {
   "cell_type": "code",
   "execution_count": 45,
   "metadata": {},
   "outputs": [],
   "source": [
    "df_dep=df_dep.Department.apply(lambda x: x.lower())"
   ]
  },
  {
   "cell_type": "markdown",
   "metadata": {},
   "source": [
    "### merge the dataframes column-wise."
   ]
  },
  {
   "cell_type": "code",
   "execution_count": 46,
   "metadata": {},
   "outputs": [
    {
     "data": {
      "text/html": [
       "<div>\n",
       "<style scoped>\n",
       "    .dataframe tbody tr th:only-of-type {\n",
       "        vertical-align: middle;\n",
       "    }\n",
       "\n",
       "    .dataframe tbody tr th {\n",
       "        vertical-align: top;\n",
       "    }\n",
       "\n",
       "    .dataframe thead th {\n",
       "        text-align: right;\n",
       "    }\n",
       "</style>\n",
       "<table border=\"1\" class=\"dataframe\">\n",
       "  <thead>\n",
       "    <tr style=\"text-align: right;\">\n",
       "      <th></th>\n",
       "      <th>Department</th>\n",
       "      <th>ID</th>\n",
       "      <th>Section 5 of 6 [I am always prepared.]</th>\n",
       "      <th>Section 5 of 6 [I am easily disturbed.]</th>\n",
       "      <th>Section 5 of 6 [I am exacting (demanding) in my work.]</th>\n",
       "      <th>Section 5 of 6 [I am full of ideas.]</th>\n",
       "      <th>Section 5 of 6 [I am interested in people.]</th>\n",
       "      <th>Section 5 of 6 [I am not interested in abstract ideas.]</th>\n",
       "      <th>Section 5 of 6 [I am not interested in other people's problems.]</th>\n",
       "      <th>Section 5 of 6 [I am not really interested in others.]</th>\n",
       "      <th>...</th>\n",
       "      <th>Unnamed: 65</th>\n",
       "      <th>Unnamed: 66</th>\n",
       "      <th>Unnamed: 67</th>\n",
       "      <th>Unnamed: 68</th>\n",
       "      <th>IPIP_HIGH_RISK</th>\n",
       "      <th>Extraversion</th>\n",
       "      <th>Agreeableness</th>\n",
       "      <th>Conscientiousness</th>\n",
       "      <th>Emotional Stability</th>\n",
       "      <th>Intellect</th>\n",
       "    </tr>\n",
       "  </thead>\n",
       "  <tbody>\n",
       "    <tr>\n",
       "      <th>0</th>\n",
       "      <td>data</td>\n",
       "      <td>0</td>\n",
       "      <td>(3, 5)</td>\n",
       "      <td>(4, 5)</td>\n",
       "      <td>(3, 5)</td>\n",
       "      <td>(5, 5)</td>\n",
       "      <td>(2, 3)</td>\n",
       "      <td>(5, 3)</td>\n",
       "      <td>(2, 3)</td>\n",
       "      <td>(2, 5)</td>\n",
       "      <td>...</td>\n",
       "      <td>NaN</td>\n",
       "      <td>NaN</td>\n",
       "      <td>NaN</td>\n",
       "      <td>NaN</td>\n",
       "      <td>NaN</td>\n",
       "      <td>30</td>\n",
       "      <td>40</td>\n",
       "      <td>48</td>\n",
       "      <td>36</td>\n",
       "      <td>42</td>\n",
       "    </tr>\n",
       "    <tr>\n",
       "      <th>1</th>\n",
       "      <td>data</td>\n",
       "      <td>1</td>\n",
       "      <td>(3, 5)</td>\n",
       "      <td>(4, 5)</td>\n",
       "      <td>(3, 5)</td>\n",
       "      <td>(5, 5)</td>\n",
       "      <td>(2, 5)</td>\n",
       "      <td>(5, 3)</td>\n",
       "      <td>(2, 5)</td>\n",
       "      <td>(2, 5)</td>\n",
       "      <td>...</td>\n",
       "      <td>NaN</td>\n",
       "      <td>NaN</td>\n",
       "      <td>NaN</td>\n",
       "      <td>NaN</td>\n",
       "      <td>NaN</td>\n",
       "      <td>42</td>\n",
       "      <td>46</td>\n",
       "      <td>46</td>\n",
       "      <td>40</td>\n",
       "      <td>42</td>\n",
       "    </tr>\n",
       "    <tr>\n",
       "      <th>2</th>\n",
       "      <td>data</td>\n",
       "      <td>2</td>\n",
       "      <td>(3, 5)</td>\n",
       "      <td>(4, 3)</td>\n",
       "      <td>(3, 3)</td>\n",
       "      <td>(5, 5)</td>\n",
       "      <td>(2, 5)</td>\n",
       "      <td>(5, 5)</td>\n",
       "      <td>(2, 5)</td>\n",
       "      <td>(2, 5)</td>\n",
       "      <td>...</td>\n",
       "      <td>NaN</td>\n",
       "      <td>NaN</td>\n",
       "      <td>NaN</td>\n",
       "      <td>NaN</td>\n",
       "      <td>NaN</td>\n",
       "      <td>28</td>\n",
       "      <td>40</td>\n",
       "      <td>40</td>\n",
       "      <td>38</td>\n",
       "      <td>42</td>\n",
       "    </tr>\n",
       "    <tr>\n",
       "      <th>3</th>\n",
       "      <td>data</td>\n",
       "      <td>3</td>\n",
       "      <td>(3, 5)</td>\n",
       "      <td>(4, 5)</td>\n",
       "      <td>(3, 3)</td>\n",
       "      <td>(5, 5)</td>\n",
       "      <td>(2, 5)</td>\n",
       "      <td>(5, 3)</td>\n",
       "      <td>(2, 3)</td>\n",
       "      <td>(2, 3)</td>\n",
       "      <td>...</td>\n",
       "      <td>NaN</td>\n",
       "      <td>NaN</td>\n",
       "      <td>NaN</td>\n",
       "      <td>NaN</td>\n",
       "      <td>NaN</td>\n",
       "      <td>30</td>\n",
       "      <td>38</td>\n",
       "      <td>38</td>\n",
       "      <td>40</td>\n",
       "      <td>38</td>\n",
       "    </tr>\n",
       "    <tr>\n",
       "      <th>4</th>\n",
       "      <td>data</td>\n",
       "      <td>4</td>\n",
       "      <td>(3, 3)</td>\n",
       "      <td>(4, 5)</td>\n",
       "      <td>(3, 3)</td>\n",
       "      <td>(5, 3)</td>\n",
       "      <td>(2, 3)</td>\n",
       "      <td>(5, 3)</td>\n",
       "      <td>(2, 3)</td>\n",
       "      <td>(2, 3)</td>\n",
       "      <td>...</td>\n",
       "      <td>NaN</td>\n",
       "      <td>NaN</td>\n",
       "      <td>NaN</td>\n",
       "      <td>NaN</td>\n",
       "      <td>NaN</td>\n",
       "      <td>28</td>\n",
       "      <td>34</td>\n",
       "      <td>46</td>\n",
       "      <td>38</td>\n",
       "      <td>36</td>\n",
       "    </tr>\n",
       "  </tbody>\n",
       "</table>\n",
       "<p>5 rows × 76 columns</p>\n",
       "</div>"
      ],
      "text/plain": [
       "  Department  ID Section 5 of 6 [I am always prepared.]  \\\n",
       "0       data   0                                 (3, 5)   \n",
       "1       data   1                                 (3, 5)   \n",
       "2       data   2                                 (3, 5)   \n",
       "3       data   3                                 (3, 5)   \n",
       "4       data   4                                 (3, 3)   \n",
       "\n",
       "  Section 5 of 6 [I am easily disturbed.]  \\\n",
       "0                                  (4, 5)   \n",
       "1                                  (4, 5)   \n",
       "2                                  (4, 3)   \n",
       "3                                  (4, 5)   \n",
       "4                                  (4, 5)   \n",
       "\n",
       "  Section 5 of 6 [I am exacting (demanding) in my work.]  \\\n",
       "0                                             (3, 5)       \n",
       "1                                             (3, 5)       \n",
       "2                                             (3, 3)       \n",
       "3                                             (3, 3)       \n",
       "4                                             (3, 3)       \n",
       "\n",
       "  Section 5 of 6 [I am full of ideas.]  \\\n",
       "0                               (5, 5)   \n",
       "1                               (5, 5)   \n",
       "2                               (5, 5)   \n",
       "3                               (5, 5)   \n",
       "4                               (5, 3)   \n",
       "\n",
       "  Section 5 of 6 [I am interested in people.]  \\\n",
       "0                                      (2, 3)   \n",
       "1                                      (2, 5)   \n",
       "2                                      (2, 5)   \n",
       "3                                      (2, 5)   \n",
       "4                                      (2, 3)   \n",
       "\n",
       "  Section 5 of 6 [I am not interested in abstract ideas.]  \\\n",
       "0                                             (5, 3)        \n",
       "1                                             (5, 3)        \n",
       "2                                             (5, 5)        \n",
       "3                                             (5, 3)        \n",
       "4                                             (5, 3)        \n",
       "\n",
       "  Section 5 of 6 [I am not interested in other people's problems.]  \\\n",
       "0                                             (2, 3)                 \n",
       "1                                             (2, 5)                 \n",
       "2                                             (2, 5)                 \n",
       "3                                             (2, 3)                 \n",
       "4                                             (2, 3)                 \n",
       "\n",
       "  Section 5 of 6 [I am not really interested in others.]  ... Unnamed: 65  \\\n",
       "0                                             (2, 5)      ...         NaN   \n",
       "1                                             (2, 5)      ...         NaN   \n",
       "2                                             (2, 5)      ...         NaN   \n",
       "3                                             (2, 3)      ...         NaN   \n",
       "4                                             (2, 3)      ...         NaN   \n",
       "\n",
       "  Unnamed: 66 Unnamed: 67 Unnamed: 68 IPIP_HIGH_RISK Extraversion  \\\n",
       "0         NaN         NaN         NaN            NaN           30   \n",
       "1         NaN         NaN         NaN            NaN           42   \n",
       "2         NaN         NaN         NaN            NaN           28   \n",
       "3         NaN         NaN         NaN            NaN           30   \n",
       "4         NaN         NaN         NaN            NaN           28   \n",
       "\n",
       "  Agreeableness Conscientiousness Emotional Stability Intellect  \n",
       "0            40                48                  36        42  \n",
       "1            46                46                  40        42  \n",
       "2            40                40                  38        42  \n",
       "3            38                38                  40        38  \n",
       "4            34                46                  38        36  \n",
       "\n",
       "[5 rows x 76 columns]"
      ]
     },
     "execution_count": 46,
     "metadata": {},
     "output_type": "execute_result"
    }
   ],
   "source": [
    "df_all= pd.concat([df_dep, df_person], axis=1)\n",
    "df_all.head()\n"
   ]
  },
  {
   "cell_type": "code",
   "execution_count": 47,
   "metadata": {},
   "outputs": [
    {
     "ename": "KeyError",
     "evalue": "'ID'",
     "output_type": "error",
     "traceback": [
      "\u001b[0;31m---------------------------------------------------------------------------\u001b[0m",
      "\u001b[0;31mKeyError\u001b[0m                                  Traceback (most recent call last)",
      "\u001b[0;32m<ipython-input-47-f526bdc325f8>\u001b[0m in \u001b[0;36m<module>\u001b[0;34m\u001b[0m\n\u001b[0;32m----> 1\u001b[0;31m \u001b[0mdf_merge\u001b[0m\u001b[0;34m=\u001b[0m \u001b[0mpd\u001b[0m\u001b[0;34m.\u001b[0m\u001b[0mmerge\u001b[0m\u001b[0;34m(\u001b[0m\u001b[0mdf_dep\u001b[0m\u001b[0;34m,\u001b[0m \u001b[0mdf_person\u001b[0m\u001b[0;34m,\u001b[0m \u001b[0mon\u001b[0m\u001b[0;34m=\u001b[0m\u001b[0;34m'ID'\u001b[0m\u001b[0;34m)\u001b[0m\u001b[0;34m.\u001b[0m\u001b[0mset_index\u001b[0m\u001b[0;34m(\u001b[0m\u001b[0;34m'ID'\u001b[0m\u001b[0;34m)\u001b[0m\u001b[0;34m\u001b[0m\u001b[0;34m\u001b[0m\u001b[0m\n\u001b[0m\u001b[1;32m      2\u001b[0m \u001b[0mdf_merge\u001b[0m\u001b[0;34m.\u001b[0m\u001b[0mhead\u001b[0m\u001b[0;34m(\u001b[0m\u001b[0;34m)\u001b[0m\u001b[0;34m\u001b[0m\u001b[0;34m\u001b[0m\u001b[0m\n",
      "\u001b[0;32m~/anaconda3/lib/python3.7/site-packages/pandas/core/reshape/merge.py\u001b[0m in \u001b[0;36mmerge\u001b[0;34m(left, right, how, on, left_on, right_on, left_index, right_index, sort, suffixes, copy, indicator, validate)\u001b[0m\n\u001b[1;32m     45\u001b[0m                          \u001b[0mright_index\u001b[0m\u001b[0;34m=\u001b[0m\u001b[0mright_index\u001b[0m\u001b[0;34m,\u001b[0m \u001b[0msort\u001b[0m\u001b[0;34m=\u001b[0m\u001b[0msort\u001b[0m\u001b[0;34m,\u001b[0m \u001b[0msuffixes\u001b[0m\u001b[0;34m=\u001b[0m\u001b[0msuffixes\u001b[0m\u001b[0;34m,\u001b[0m\u001b[0;34m\u001b[0m\u001b[0;34m\u001b[0m\u001b[0m\n\u001b[1;32m     46\u001b[0m                          \u001b[0mcopy\u001b[0m\u001b[0;34m=\u001b[0m\u001b[0mcopy\u001b[0m\u001b[0;34m,\u001b[0m \u001b[0mindicator\u001b[0m\u001b[0;34m=\u001b[0m\u001b[0mindicator\u001b[0m\u001b[0;34m,\u001b[0m\u001b[0;34m\u001b[0m\u001b[0;34m\u001b[0m\u001b[0m\n\u001b[0;32m---> 47\u001b[0;31m                          validate=validate)\n\u001b[0m\u001b[1;32m     48\u001b[0m     \u001b[0;32mreturn\u001b[0m \u001b[0mop\u001b[0m\u001b[0;34m.\u001b[0m\u001b[0mget_result\u001b[0m\u001b[0;34m(\u001b[0m\u001b[0;34m)\u001b[0m\u001b[0;34m\u001b[0m\u001b[0;34m\u001b[0m\u001b[0m\n\u001b[1;32m     49\u001b[0m \u001b[0;34m\u001b[0m\u001b[0m\n",
      "\u001b[0;32m~/anaconda3/lib/python3.7/site-packages/pandas/core/reshape/merge.py\u001b[0m in \u001b[0;36m__init__\u001b[0;34m(self, left, right, how, on, left_on, right_on, axis, left_index, right_index, sort, suffixes, copy, indicator, validate)\u001b[0m\n\u001b[1;32m    527\u001b[0m         (self.left_join_keys,\n\u001b[1;32m    528\u001b[0m          \u001b[0mself\u001b[0m\u001b[0;34m.\u001b[0m\u001b[0mright_join_keys\u001b[0m\u001b[0;34m,\u001b[0m\u001b[0;34m\u001b[0m\u001b[0;34m\u001b[0m\u001b[0m\n\u001b[0;32m--> 529\u001b[0;31m          self.join_names) = self._get_merge_keys()\n\u001b[0m\u001b[1;32m    530\u001b[0m \u001b[0;34m\u001b[0m\u001b[0m\n\u001b[1;32m    531\u001b[0m         \u001b[0;31m# validate the merge keys dtypes. We may need to coerce\u001b[0m\u001b[0;34m\u001b[0m\u001b[0;34m\u001b[0m\u001b[0;34m\u001b[0m\u001b[0m\n",
      "\u001b[0;32m~/anaconda3/lib/python3.7/site-packages/pandas/core/reshape/merge.py\u001b[0m in \u001b[0;36m_get_merge_keys\u001b[0;34m(self)\u001b[0m\n\u001b[1;32m    844\u001b[0m                         \u001b[0mright_keys\u001b[0m\u001b[0;34m.\u001b[0m\u001b[0mappend\u001b[0m\u001b[0;34m(\u001b[0m\u001b[0mrk\u001b[0m\u001b[0;34m)\u001b[0m\u001b[0;34m\u001b[0m\u001b[0;34m\u001b[0m\u001b[0m\n\u001b[1;32m    845\u001b[0m                     \u001b[0;32mif\u001b[0m \u001b[0mlk\u001b[0m \u001b[0;32mis\u001b[0m \u001b[0;32mnot\u001b[0m \u001b[0;32mNone\u001b[0m\u001b[0;34m:\u001b[0m\u001b[0;34m\u001b[0m\u001b[0;34m\u001b[0m\u001b[0m\n\u001b[0;32m--> 846\u001b[0;31m                         \u001b[0mleft_keys\u001b[0m\u001b[0;34m.\u001b[0m\u001b[0mappend\u001b[0m\u001b[0;34m(\u001b[0m\u001b[0mleft\u001b[0m\u001b[0;34m.\u001b[0m\u001b[0m_get_label_or_level_values\u001b[0m\u001b[0;34m(\u001b[0m\u001b[0mlk\u001b[0m\u001b[0;34m)\u001b[0m\u001b[0;34m)\u001b[0m\u001b[0;34m\u001b[0m\u001b[0;34m\u001b[0m\u001b[0m\n\u001b[0m\u001b[1;32m    847\u001b[0m                         \u001b[0mjoin_names\u001b[0m\u001b[0;34m.\u001b[0m\u001b[0mappend\u001b[0m\u001b[0;34m(\u001b[0m\u001b[0mlk\u001b[0m\u001b[0;34m)\u001b[0m\u001b[0;34m\u001b[0m\u001b[0;34m\u001b[0m\u001b[0m\n\u001b[1;32m    848\u001b[0m                     \u001b[0;32melse\u001b[0m\u001b[0;34m:\u001b[0m\u001b[0;34m\u001b[0m\u001b[0;34m\u001b[0m\u001b[0m\n",
      "\u001b[0;32m~/anaconda3/lib/python3.7/site-packages/pandas/core/generic.py\u001b[0m in \u001b[0;36m_get_label_or_level_values\u001b[0;34m(self, key, axis)\u001b[0m\n\u001b[1;32m   1704\u001b[0m             \u001b[0mvalues\u001b[0m \u001b[0;34m=\u001b[0m \u001b[0mself\u001b[0m\u001b[0;34m.\u001b[0m\u001b[0maxes\u001b[0m\u001b[0;34m[\u001b[0m\u001b[0maxis\u001b[0m\u001b[0;34m]\u001b[0m\u001b[0;34m.\u001b[0m\u001b[0mget_level_values\u001b[0m\u001b[0;34m(\u001b[0m\u001b[0mkey\u001b[0m\u001b[0;34m)\u001b[0m\u001b[0;34m.\u001b[0m\u001b[0m_values\u001b[0m\u001b[0;34m\u001b[0m\u001b[0;34m\u001b[0m\u001b[0m\n\u001b[1;32m   1705\u001b[0m         \u001b[0;32melse\u001b[0m\u001b[0;34m:\u001b[0m\u001b[0;34m\u001b[0m\u001b[0;34m\u001b[0m\u001b[0m\n\u001b[0;32m-> 1706\u001b[0;31m             \u001b[0;32mraise\u001b[0m \u001b[0mKeyError\u001b[0m\u001b[0;34m(\u001b[0m\u001b[0mkey\u001b[0m\u001b[0;34m)\u001b[0m\u001b[0;34m\u001b[0m\u001b[0;34m\u001b[0m\u001b[0m\n\u001b[0m\u001b[1;32m   1707\u001b[0m \u001b[0;34m\u001b[0m\u001b[0m\n\u001b[1;32m   1708\u001b[0m         \u001b[0;31m# Check for duplicates\u001b[0m\u001b[0;34m\u001b[0m\u001b[0;34m\u001b[0m\u001b[0;34m\u001b[0m\u001b[0m\n",
      "\u001b[0;31mKeyError\u001b[0m: 'ID'"
     ]
    }
   ],
   "source": [
    "df_merge= pd.merge(df_dep, df_person, on='ID').set_index('ID')\n",
    "df_merge.head()"
   ]
  },
  {
   "cell_type": "markdown",
   "metadata": {},
   "source": [
    "verify that indeed the length of the new dataframe is equal to any of the old ones."
   ]
  },
  {
   "cell_type": "code",
   "execution_count": 48,
   "metadata": {},
   "outputs": [],
   "source": [
    "assert len(df_all)== len(df_person)"
   ]
  },
  {
   "cell_type": "markdown",
   "metadata": {},
   "source": [
    "### risk categorization"
   ]
  },
  {
   "cell_type": "code",
   "execution_count": 49,
   "metadata": {},
   "outputs": [],
   "source": [
    "def risk(row):\n",
    "    if row['Agreeableness']<30 and row['Conscientiousness']<30 and row['Emotional Stability']:\n",
    "        return 'high risk'\n",
    "    else:\n",
    "        return 'low risk'\n",
    "        \n",
    "\n",
    "df_all['risk']= df_all[['Agreeableness', 'Conscientiousness', 'Emotional Stability']].apply(risk, axis=1)\n"
   ]
  },
  {
   "cell_type": "code",
   "execution_count": 50,
   "metadata": {},
   "outputs": [
    {
     "data": {
      "text/html": [
       "<div>\n",
       "<style scoped>\n",
       "    .dataframe tbody tr th:only-of-type {\n",
       "        vertical-align: middle;\n",
       "    }\n",
       "\n",
       "    .dataframe tbody tr th {\n",
       "        vertical-align: top;\n",
       "    }\n",
       "\n",
       "    .dataframe thead th {\n",
       "        text-align: right;\n",
       "    }\n",
       "</style>\n",
       "<table border=\"1\" class=\"dataframe\">\n",
       "  <thead>\n",
       "    <tr style=\"text-align: right;\">\n",
       "      <th></th>\n",
       "      <th>Department</th>\n",
       "    </tr>\n",
       "  </thead>\n",
       "  <tbody>\n",
       "    <tr>\n",
       "      <th>405</th>\n",
       "      <td>strategy</td>\n",
       "    </tr>\n",
       "    <tr>\n",
       "      <th>716</th>\n",
       "      <td>strategy</td>\n",
       "    </tr>\n",
       "    <tr>\n",
       "      <th>801</th>\n",
       "      <td>strategy</td>\n",
       "    </tr>\n",
       "    <tr>\n",
       "      <th>881</th>\n",
       "      <td>data</td>\n",
       "    </tr>\n",
       "    <tr>\n",
       "      <th>1197</th>\n",
       "      <td>copywriting</td>\n",
       "    </tr>\n",
       "  </tbody>\n",
       "</table>\n",
       "</div>"
      ],
      "text/plain": [
       "       Department\n",
       "405      strategy\n",
       "716      strategy\n",
       "801      strategy\n",
       "881          data\n",
       "1197  copywriting"
      ]
     },
     "execution_count": 50,
     "metadata": {},
     "output_type": "execute_result"
    }
   ],
   "source": [
    "df_high_risk= df_all[df_all.risk=='high risk']\n",
    "df_high_risk[['Department']]"
   ]
  },
  {
   "cell_type": "markdown",
   "metadata": {},
   "source": [
    "## High and low risk within each department. To be fixed."
   ]
  },
  {
   "cell_type": "code",
   "execution_count": 59,
   "metadata": {},
   "outputs": [
    {
     "data": {
      "text/html": [
       "<div>\n",
       "<style scoped>\n",
       "    .dataframe tbody tr th:only-of-type {\n",
       "        vertical-align: middle;\n",
       "    }\n",
       "\n",
       "    .dataframe tbody tr th {\n",
       "        vertical-align: top;\n",
       "    }\n",
       "\n",
       "    .dataframe thead tr th {\n",
       "        text-align: left;\n",
       "    }\n",
       "\n",
       "    .dataframe thead tr:last-of-type th {\n",
       "        text-align: right;\n",
       "    }\n",
       "</style>\n",
       "<table border=\"1\" class=\"dataframe\">\n",
       "  <thead>\n",
       "    <tr>\n",
       "      <th></th>\n",
       "      <th colspan=\"5\" halign=\"left\">ID</th>\n",
       "    </tr>\n",
       "    <tr>\n",
       "      <th>Department</th>\n",
       "      <th>copywriting</th>\n",
       "      <th>data</th>\n",
       "      <th>design</th>\n",
       "      <th>strategy</th>\n",
       "      <th>web dev</th>\n",
       "    </tr>\n",
       "    <tr>\n",
       "      <th>risk</th>\n",
       "      <th></th>\n",
       "      <th></th>\n",
       "      <th></th>\n",
       "      <th></th>\n",
       "      <th></th>\n",
       "    </tr>\n",
       "  </thead>\n",
       "  <tbody>\n",
       "    <tr>\n",
       "      <th>high risk</th>\n",
       "      <td>1.0</td>\n",
       "      <td>1.0</td>\n",
       "      <td>NaN</td>\n",
       "      <td>3.0</td>\n",
       "      <td>NaN</td>\n",
       "    </tr>\n",
       "    <tr>\n",
       "      <th>low risk</th>\n",
       "      <td>325.0</td>\n",
       "      <td>328.0</td>\n",
       "      <td>120.0</td>\n",
       "      <td>446.0</td>\n",
       "      <td>331.0</td>\n",
       "    </tr>\n",
       "  </tbody>\n",
       "</table>\n",
       "</div>"
      ],
      "text/plain": [
       "                    ID                               \n",
       "Department copywriting   data design strategy web dev\n",
       "risk                                                 \n",
       "high risk          1.0    1.0    NaN      3.0     NaN\n",
       "low risk         325.0  328.0  120.0    446.0   331.0"
      ]
     },
     "execution_count": 59,
     "metadata": {},
     "output_type": "execute_result"
    }
   ],
   "source": [
    "df_all.groupby(['risk', 'Department']).aggregate('count').unstack().iloc[:,:5]"
   ]
  }
 ],
 "metadata": {
  "kernelspec": {
   "display_name": "Python 3",
   "language": "python",
   "name": "python3"
  },
  "language_info": {
   "codemirror_mode": {
    "name": "ipython",
    "version": 3
   },
   "file_extension": ".py",
   "mimetype": "text/x-python",
   "name": "python",
   "nbconvert_exporter": "python",
   "pygments_lexer": "ipython3",
   "version": "3.7.3"
  }
 },
 "nbformat": 4,
 "nbformat_minor": 2
}
